{
  "nbformat": 4,
  "nbformat_minor": 0,
  "metadata": {
    "colab": {
      "provenance": []
    },
    "kernelspec": {
      "name": "python3",
      "display_name": "Python 3"
    },
    "language_info": {
      "name": "python"
    }
  },
  "cells": [
    {
      "cell_type": "markdown",
      "source": [
        "# **Handwritten Digit Recognition - by using CNN & Tensorflow:**\n",
        "\n",
        "### **Introduction:**\n",
        "The Handwritten Digit Recognition project is a classic application of machine learning and computer vision that involves training a model to accurately identify handwritten digits. Handwritten digit recognition has wide-ranging applications, from automated mail sorting to digitizing historical documents. This project focuses on building a Convolutional Neural Network (CNN) to recognize and classify handwritten digits from the MNIST dataset.\n",
        "\n",
        "### **Objective:**\n",
        "\n",
        "The main objective of this project is to develop a robust and accurate model for recognizing handwritten digits. By training a CNN on the MNIST dataset, the project aims to achieve high accuracy in digit classification. The project also aims to showcase the capabilities of convolutional neural networks in image recognition tasks."
      ],
      "metadata": {
        "id": "2_4cxzh390sF"
      }
    },
    {
      "cell_type": "code",
      "execution_count": 32,
      "metadata": {
        "id": "TiN4FHum8Tk0"
      },
      "outputs": [],
      "source": [
        "import pandas as pd\n",
        "import numpy as np\n",
        "import matplotlib\n",
        "import matplotlib.pyplot as plt\n",
        "import seaborn as sns\n",
        "import tensorflow as tf\n",
        "from tensorflow import keras\n",
        "from keras import Sequential\n",
        "import cv2\n",
        "# %matplotlib in line -- just for jupyter\n",
        "# from sklearn.datasets import fetch_openml"
      ]
    },
    {
      "cell_type": "code",
      "source": [
        "# loading the MINST Dataset & splitting to X_train, y_train, X_test & y_test:\n",
        "\n",
        "(X_train, y_train), (X_test, y_test) = keras.datasets.mnist.load_data()"
      ],
      "metadata": {
        "id": "jHzV8nnXWDJB"
      },
      "execution_count": 155,
      "outputs": []
    },
    {
      "cell_type": "code",
      "source": [
        "len(X_train)   # Checking the length of X_train."
      ],
      "metadata": {
        "colab": {
          "base_uri": "https://localhost:8080/"
        },
        "id": "UapW2EMDWNL7",
        "outputId": "56a61e06-4b09-4d16-acb9-981d4e32da24"
      },
      "execution_count": null,
      "outputs": [
        {
          "output_type": "execute_result",
          "data": {
            "text/plain": [
              "60000"
            ]
          },
          "metadata": {},
          "execution_count": 5
        }
      ]
    },
    {
      "cell_type": "code",
      "source": [
        "len(X_test)   # Checking the length of X_test."
      ],
      "metadata": {
        "id": "x4PPH47a8UdV",
        "colab": {
          "base_uri": "https://localhost:8080/"
        },
        "outputId": "32d3f4f9-ba48-46f3-f17b-0920ab7fe0d2"
      },
      "execution_count": null,
      "outputs": [
        {
          "output_type": "execute_result",
          "data": {
            "text/plain": [
              "10000"
            ]
          },
          "metadata": {},
          "execution_count": 7
        }
      ]
    },
    {
      "cell_type": "code",
      "source": [
        "X_train.shape            # Checking shape of X_train."
      ],
      "metadata": {
        "colab": {
          "base_uri": "https://localhost:8080/"
        },
        "id": "22aF6hM2eqm4",
        "outputId": "208fffcb-e355-4779-edd4-d46cbf80cab1"
      },
      "execution_count": null,
      "outputs": [
        {
          "output_type": "execute_result",
          "data": {
            "text/plain": [
              "(60000, 28, 28)"
            ]
          },
          "metadata": {},
          "execution_count": 8
        }
      ]
    },
    {
      "cell_type": "code",
      "source": [
        "X_test.shape    # chekcing shape of X_test."
      ],
      "metadata": {
        "id": "x-7-852v8UhV",
        "colab": {
          "base_uri": "https://localhost:8080/"
        },
        "outputId": "4ad2e632-9baf-432f-e3de-d5b0d0bce138"
      },
      "execution_count": null,
      "outputs": [
        {
          "output_type": "execute_result",
          "data": {
            "text/plain": [
              "(10000, 28, 28)"
            ]
          },
          "metadata": {},
          "execution_count": 10
        }
      ]
    },
    {
      "cell_type": "code",
      "source": [
        "plt.matshow(X_train[0])     # Visualizing the value of zero index from X_train"
      ],
      "metadata": {
        "id": "5PfB2VEI8Upm",
        "colab": {
          "base_uri": "https://localhost:8080/",
          "height": 454
        },
        "outputId": "04e2c705-85af-4099-ca07-fb03ead02cfb"
      },
      "execution_count": 5,
      "outputs": [
        {
          "output_type": "execute_result",
          "data": {
            "text/plain": [
              "<matplotlib.image.AxesImage at 0x7d6a528f0130>"
            ]
          },
          "metadata": {},
          "execution_count": 5
        },
        {
          "output_type": "display_data",
          "data": {
            "text/plain": [
              "<Figure size 480x480 with 1 Axes>"
            ],
            "image/png": "[encoded data removed]"
          },
          "metadata": {}
        }
      ]
    },
    {
      "cell_type": "code",
      "source": [
        "plt.matshow(X_train[1])       # Visualizing the value of first index from X_train."
      ],
      "metadata": {
        "colab": {
          "base_uri": "https://localhost:8080/",
          "height": 454
        },
        "id": "iYJOD9QifNtA",
        "outputId": "2002e8f2-37dd-44f1-9015-83524a0c5225"
      },
      "execution_count": 6,
      "outputs": [
        {
          "output_type": "execute_result",
          "data": {
            "text/plain": [
              "<matplotlib.image.AxesImage at 0x7d6a5295d450>"
            ]
          },
          "metadata": {},
          "execution_count": 6
        },
        {
          "output_type": "display_data",
          "data": {
            "text/plain": [
              "<Figure size 480x480 with 1 Axes>"
            ],
            "image/png": "[encoded data removed]"
          },
          "metadata": {}
        }
      ]
    },
    {
      "cell_type": "code",
      "source": [
        "y_train[:5]           # Printing first 5 values from y_train."
      ],
      "metadata": {
        "colab": {
          "base_uri": "https://localhost:8080/"
        },
        "id": "-Y4chf_bfVEW",
        "outputId": "2f573d56-fde3-438c-c4b1-64bca5c064b5"
      },
      "execution_count": 12,
      "outputs": [
        {
          "output_type": "execute_result",
          "data": {
            "text/plain": [
              "array([5, 0, 4, 1, 9], dtype=uint8)"
            ]
          },
          "metadata": {},
          "execution_count": 12
        }
      ]
    },
    {
      "cell_type": "code",
      "source": [
        "# Feature scaling:\n",
        "\n",
        "X_train = X_train / 255.0\n",
        "X_test = X_test / 255.0"
      ],
      "metadata": {
        "id": "R5e9MhEdl8CY"
      },
      "execution_count": 156,
      "outputs": []
    },
    {
      "cell_type": "code",
      "source": [
        "# Flattening X_test and X_train to build the model.\n",
        "\n",
        "X_train_flattened = X_train.reshape(len(X_train),28*28)\n",
        "X_test_flattened = X_test.reshape(len(X_test),28*28)"
      ],
      "metadata": {
        "id": "f16OivRDfcxs"
      },
      "execution_count": 157,
      "outputs": []
    },
    {
      "cell_type": "code",
      "source": [
        "X_train_flattened.shape"
      ],
      "metadata": {
        "colab": {
          "base_uri": "https://localhost:8080/"
        },
        "id": "YXNY1DJ-gPkJ",
        "outputId": "c2e054e4-1f89-4832-9246-5c2d62512ed2"
      },
      "execution_count": 10,
      "outputs": [
        {
          "output_type": "execute_result",
          "data": {
            "text/plain": [
              "(60000, 784)"
            ]
          },
          "metadata": {},
          "execution_count": 10
        }
      ]
    },
    {
      "cell_type": "code",
      "source": [
        "X_test_flattened.shape"
      ],
      "metadata": {
        "colab": {
          "base_uri": "https://localhost:8080/"
        },
        "id": "LgpcpsvMgRwd",
        "outputId": "52e5a9f2-07dd-45cd-f562-a9a69b374a88"
      },
      "execution_count": null,
      "outputs": [
        {
          "output_type": "execute_result",
          "data": {
            "text/plain": [
              "(10000, 784)"
            ]
          },
          "metadata": {},
          "execution_count": 33
        }
      ]
    },
    {
      "cell_type": "markdown",
      "source": [
        "### **Model Building Using CNN & Tensorflow:**"
      ],
      "metadata": {
        "id": "BjAYqsNUkXsx"
      }
    },
    {
      "cell_type": "code",
      "source": [
        "import tensorflow as tf\n",
        "from tensorflow import keras\n",
        "from tensorflow.keras.layers import Conv2D, MaxPooling2D, Flatten, Dense\n",
        "\n",
        "X_train_reshaped = X_train_flattened.reshape(-1, 28, 28, 1)  # Reshaping the flattened value.\n",
        "X_test_reshaped = X_test_flattened.reshape(-1, 28, 28, 1)\n",
        "\n",
        "model = keras.Sequential([\n",
        "    Conv2D(32, (3, 3), activation='relu', input_shape=(28, 28, 1)),\n",
        "    MaxPooling2D(2, 2),\n",
        "    Conv2D(64, (3, 3), activation='relu'),\n",
        "    MaxPooling2D(2, 2),\n",
        "    Flatten(),\n",
        "    Dense(128, activation='relu'),\n",
        "    Dense(10, activation='softmax')\n",
        "])"
      ],
      "metadata": {
        "id": "2FaGs0nUkrEd"
      },
      "execution_count": 158,
      "outputs": []
    },
    {
      "cell_type": "code",
      "source": [
        "# Compiling the model\n",
        "model.compile(optimizer='adam', loss='sparse_categorical_crossentropy', metrics=['accuracy'])\n",
        "\n",
        "# Training the model\n",
        "model.fit(X_train_reshaped, y_train, epochs=10, validation_split=0.3)"
      ],
      "metadata": {
        "colab": {
          "base_uri": "https://localhost:8080/"
        },
        "id": "bzHJHqbBQCV3",
        "outputId": "8b1013b2-6e35-4c54-d89d-cb28de3ca17e"
      },
      "execution_count": 159,
      "outputs": [
        {
          "output_type": "stream",
          "name": "stdout",
          "text": [
            "Epoch 1/10\n",
            "1313/1313 [==============================] - 31s 23ms/step - loss: 0.1566 - accuracy: 0.9522 - val_loss: 0.0652 - val_accuracy: 0.9802\n",
            "Epoch 2/10\n",
            "1313/1313 [==============================] - 29s 22ms/step - loss: 0.0492 - accuracy: 0.9851 - val_loss: 0.0536 - val_accuracy: 0.9832\n",
            "Epoch 3/10\n",
            "1313/1313 [==============================] - 28s 22ms/step - loss: 0.0344 - accuracy: 0.9885 - val_loss: 0.0532 - val_accuracy: 0.9827\n",
            "Epoch 4/10\n",
            "1313/1313 [==============================] - 28s 22ms/step - loss: 0.0245 - accuracy: 0.9920 - val_loss: 0.0435 - val_accuracy: 0.9881\n",
            "Epoch 5/10\n",
            "1313/1313 [==============================] - 29s 22ms/step - loss: 0.0184 - accuracy: 0.9940 - val_loss: 0.0482 - val_accuracy: 0.9869\n",
            "Epoch 6/10\n",
            "1313/1313 [==============================] - 28s 22ms/step - loss: 0.0143 - accuracy: 0.9952 - val_loss: 0.0442 - val_accuracy: 0.9881\n",
            "Epoch 7/10\n",
            "1313/1313 [==============================] - 30s 23ms/step - loss: 0.0110 - accuracy: 0.9966 - val_loss: 0.0444 - val_accuracy: 0.9893\n",
            "Epoch 8/10\n",
            "1313/1313 [==============================] - 28s 22ms/step - loss: 0.0102 - accuracy: 0.9965 - val_loss: 0.0566 - val_accuracy: 0.9873\n",
            "Epoch 9/10\n",
            "1313/1313 [==============================] - 29s 22ms/step - loss: 0.0080 - accuracy: 0.9976 - val_loss: 0.0506 - val_accuracy: 0.9890\n",
            "Epoch 10/10\n",
            "1313/1313 [==============================] - 29s 22ms/step - loss: 0.0069 - accuracy: 0.9977 - val_loss: 0.0500 - val_accuracy: 0.9892\n"
          ]
        },
        {
          "output_type": "execute_result",
          "data": {
            "text/plain": [
              "<keras.callbacks.History at 0x7d6a20c8a440>"
            ]
          },
          "metadata": {},
          "execution_count": 159
        }
      ]
    },
    {
      "cell_type": "code",
      "source": [
        "# Evaluate the model on the test data\n",
        "test_loss, test_accuracy = model.evaluate(X_test_reshaped, y_test)\n",
        "print(\"Test accuracy:\", test_accuracy)"
      ],
      "metadata": {
        "colab": {
          "base_uri": "https://localhost:8080/"
        },
        "id": "HpxLqBN87NC5",
        "outputId": "e9480bd3-8c8b-42fb-dfa0-a244aed903f3"
      },
      "execution_count": 160,
      "outputs": [
        {
          "output_type": "stream",
          "name": "stdout",
          "text": [
            "313/313 [==============================] - 2s 6ms/step - loss: 0.0445 - accuracy: 0.9892\n",
            "Test accuracy: 0.9891999959945679\n"
          ]
        }
      ]
    },
    {
      "cell_type": "code",
      "source": [
        "# model = keras.Sequential([\n",
        "#     keras.layers.Dense(100, input_shape=(784,), activation = 'relu'),\n",
        "#     keras.layers.Dense(10, activation=tf.nn.softmax)\n",
        "# ])\n",
        "\n",
        "# model.compile(optimizer = 'adam', loss = 'sparse_categorical_crossentropy', metrics=['accuracy'])\n",
        "\n",
        "# model.fit(X_train_flattened, y_train, epochs=5)"
      ],
      "metadata": {
        "colab": {
          "base_uri": "https://localhost:8080/"
        },
        "id": "V7csTGlLgShT",
        "outputId": "6190d931-d2ba-4b28-e954-a3c223776ada"
      },
      "execution_count": 16,
      "outputs": [
        {
          "output_type": "stream",
          "name": "stdout",
          "text": [
            "Epoch 1/5\n",
            "1875/1875 [==============================] - 4s 2ms/step - loss: 1.2411 - accuracy: 0.7086\n",
            "Epoch 2/5\n",
            "1875/1875 [==============================] - 3s 2ms/step - loss: 0.5162 - accuracy: 0.8679\n",
            "Epoch 3/5\n",
            "1875/1875 [==============================] - 3s 2ms/step - loss: 0.3979 - accuracy: 0.8927\n",
            "Epoch 4/5\n",
            "1875/1875 [==============================] - 3s 2ms/step - loss: 0.3519 - accuracy: 0.9019\n",
            "Epoch 5/5\n",
            "1875/1875 [==============================] - 3s 2ms/step - loss: 0.3264 - accuracy: 0.9071\n"
          ]
        },
        {
          "output_type": "execute_result",
          "data": {
            "text/plain": [
              "<keras.callbacks.History at 0x7d6a38bfece0>"
            ]
          },
          "metadata": {},
          "execution_count": 16
        }
      ]
    },
    {
      "cell_type": "code",
      "source": [
        "model.fit(X_test_reshaped, y_test)      # Fiting the model on X_test and y_test"
      ],
      "metadata": {
        "colab": {
          "base_uri": "https://localhost:8080/"
        },
        "id": "h23yNT9DlW7z",
        "outputId": "cf6037f3-ab46-4df3-9faf-13b726f285ba"
      },
      "execution_count": 161,
      "outputs": [
        {
          "output_type": "stream",
          "name": "stdout",
          "text": [
            "313/313 [==============================] - 6s 18ms/step - loss: 0.0380 - accuracy: 0.9891\n"
          ]
        },
        {
          "output_type": "execute_result",
          "data": {
            "text/plain": [
              "<keras.callbacks.History at 0x7d6a20a869b0>"
            ]
          },
          "metadata": {},
          "execution_count": 161
        }
      ]
    },
    {
      "cell_type": "code",
      "source": [
        "plt.matshow(X_test[1])      # visualizing the first index value from X_test."
      ],
      "metadata": {
        "colab": {
          "base_uri": "https://localhost:8080/",
          "height": 454
        },
        "id": "hkfC_29nliBJ",
        "outputId": "fd8a1a23-db07-4806-9fd2-03ac838facbc"
      },
      "execution_count": 162,
      "outputs": [
        {
          "output_type": "execute_result",
          "data": {
            "text/plain": [
              "<matplotlib.image.AxesImage at 0x7d6a20abe140>"
            ]
          },
          "metadata": {},
          "execution_count": 162
        },
        {
          "output_type": "display_data",
          "data": {
            "text/plain": [
              "<Figure size 480x480 with 1 Axes>"
            ],
            "image/png": "[encoded data removed]"
          },
          "metadata": {}
        }
      ]
    },
    {
      "cell_type": "code",
      "source": [
        "# predicting the above value.\n",
        "\n",
        "y_predicted = model.predict(X_test_reshaped)\n",
        "y_predicted[1]"
      ],
      "metadata": {
        "colab": {
          "base_uri": "https://localhost:8080/"
        },
        "id": "Y0YZa54-jOJH",
        "outputId": "387101d6-8681-4bc8-d7a6-7b088a9d6a2c"
      },
      "execution_count": 163,
      "outputs": [
        {
          "output_type": "stream",
          "name": "stdout",
          "text": [
            "313/313 [==============================] - 2s 6ms/step\n"
          ]
        },
        {
          "output_type": "execute_result",
          "data": {
            "text/plain": [
              "array([3.8115257e-08, 2.9846277e-08, 9.9999994e-01, 2.0791535e-10,\n",
              "       3.3022782e-11, 2.8386988e-16, 2.2302658e-10, 2.9594428e-11,\n",
              "       1.6693870e-12, 1.0540270e-11], dtype=float32)"
            ]
          },
          "metadata": {},
          "execution_count": 163
        }
      ]
    },
    {
      "cell_type": "code",
      "source": [
        "np.argmax(y_predicted[1])     # It is predicting correct value."
      ],
      "metadata": {
        "colab": {
          "base_uri": "https://localhost:8080/"
        },
        "id": "N2U6oaX1mw7X",
        "outputId": "01ca4361-43f4-4f34-b160-359852340913"
      },
      "execution_count": 164,
      "outputs": [
        {
          "output_type": "execute_result",
          "data": {
            "text/plain": [
              "2"
            ]
          },
          "metadata": {},
          "execution_count": 164
        }
      ]
    },
    {
      "cell_type": "code",
      "source": [
        "plt.matshow(X_test[3])           # Visualizing the 3rd indexed value from X_test."
      ],
      "metadata": {
        "colab": {
          "base_uri": "https://localhost:8080/",
          "height": 454
        },
        "id": "MgZfcoOtagI8",
        "outputId": "9c4260b5-4bcc-4a70-c89c-03dd07c71a4a"
      },
      "execution_count": 165,
      "outputs": [
        {
          "output_type": "execute_result",
          "data": {
            "text/plain": [
              "<matplotlib.image.AxesImage at 0x7d6a20a873d0>"
            ]
          },
          "metadata": {},
          "execution_count": 165
        },
        {
          "output_type": "display_data",
          "data": {
            "text/plain": [
              "<Figure size 480x480 with 1 Axes>"
            ],
            "image/png": "[encoded data removed]"
          },
          "metadata": {}
        }
      ]
    },
    {
      "cell_type": "code",
      "source": [
        "np.argmax(y_predicted[3])  # as we can see, it is predicting correct value."
      ],
      "metadata": {
        "colab": {
          "base_uri": "https://localhost:8080/"
        },
        "id": "RdFdPYjQagPB",
        "outputId": "9bf3fa11-bb01-49ef-cfcf-b4a5dd474e23"
      },
      "execution_count": 166,
      "outputs": [
        {
          "output_type": "execute_result",
          "data": {
            "text/plain": [
              "0"
            ]
          },
          "metadata": {},
          "execution_count": 166
        }
      ]
    },
    {
      "cell_type": "markdown",
      "source": [
        "- Now we will predict y_test and will print the first 10 values."
      ],
      "metadata": {
        "id": "McQyhL1CaxIT"
      }
    },
    {
      "cell_type": "code",
      "source": [
        "y_predicted_labels = [np.argmax(i) for i in y_predicted]\n",
        "y_predicted_labels[:10]"
      ],
      "metadata": {
        "colab": {
          "base_uri": "https://localhost:8080/"
        },
        "id": "1D6xk8GQn0rS",
        "outputId": "c0c689d1-6d92-4679-b9d1-926df1769de8"
      },
      "execution_count": 167,
      "outputs": [
        {
          "output_type": "execute_result",
          "data": {
            "text/plain": [
              "[7, 2, 1, 0, 4, 1, 4, 9, 5, 9]"
            ]
          },
          "metadata": {},
          "execution_count": 167
        }
      ]
    },
    {
      "cell_type": "code",
      "source": [
        "# Creating confusion matrix to check predicions.\n",
        "\n",
        "conf_mat = tf.math.confusion_matrix(labels=y_test, predictions = y_predicted_labels)"
      ],
      "metadata": {
        "id": "wnCapp6GnQyc"
      },
      "execution_count": 168,
      "outputs": []
    },
    {
      "cell_type": "code",
      "source": [
        "conf_mat"
      ],
      "metadata": {
        "colab": {
          "base_uri": "https://localhost:8080/"
        },
        "id": "kvrCJIoqoKBu",
        "outputId": "3bc7b2ac-94d2-4683-ae77-1b7d5d0c1d53"
      },
      "execution_count": 169,
      "outputs": [
        {
          "output_type": "execute_result",
          "data": {
            "text/plain": [
              "<tf.Tensor: shape=(10, 10), dtype=int32, numpy=\n",
              "array([[ 979,    1,    0,    0,    0,    0,    0,    0,    0,    0],\n",
              "       [   0, 1135,    0,    0,    0,    0,    0,    0,    0,    0],\n",
              "       [   0,    0, 1030,    1,    1,    0,    0,    0,    0,    0],\n",
              "       [   0,    0,    0, 1009,    0,    1,    0,    0,    0,    0],\n",
              "       [   0,    0,    0,    0,  982,    0,    0,    0,    0,    0],\n",
              "       [   0,    0,    0,    2,    0,  890,    0,    0,    0,    0],\n",
              "       [   1,    1,    0,    0,    0,    0,  956,    0,    0,    0],\n",
              "       [   0,    0,    3,    0,    0,    0,    0, 1025,    0,    0],\n",
              "       [   0,    0,    0,    1,    0,    0,    0,    0,  973,    0],\n",
              "       [   0,    0,    0,    0,    2,    0,    0,    0,    0, 1007]],\n",
              "      dtype=int32)>"
            ]
          },
          "metadata": {},
          "execution_count": 169
        }
      ]
    },
    {
      "cell_type": "markdown",
      "source": [
        "- We can see from the above confusion matrix, most of the values are predicting correct."
      ],
      "metadata": {
        "id": "NSquotcNmNtB"
      }
    },
    {
      "cell_type": "code",
      "source": [
        "import seaborn as sns\n",
        "plt.figure(figsize=(10,4))\n",
        "sns.heatmap(conf_mat, annot=True, fmt='d')\n",
        "plt.xlabel('Predicted')\n",
        "plt.ylabel('Actual')"
      ],
      "metadata": {
        "colab": {
          "base_uri": "https://localhost:8080/",
          "height": 405
        },
        "id": "HGDdlp6coQqp",
        "outputId": "94264092-ae2c-4a9a-eed4-3a3af8927bfd"
      },
      "execution_count": 170,
      "outputs": [
        {
          "output_type": "execute_result",
          "data": {
            "text/plain": [
              "Text(95.72222222222221, 0.5, 'Actual')"
            ]
          },
          "metadata": {},
          "execution_count": 170
        },
        {
          "output_type": "display_data",
          "data": {
            "text/plain": [
              "<Figure size 1000x400 with 2 Axes>"
            ],
            "image/png": "[encoded data removed]"
          },
          "metadata": {}
        }
      ]
    },
    {
      "cell_type": "markdown",
      "source": [
        "- **Now Let's check the image prediction :**"
      ],
      "metadata": {
        "id": "uFNsTsoKhWNW"
      }
    },
    {
      "cell_type": "code",
      "source": [
        "# Reading image by using OpenCV.\n",
        "\n",
        "import cv2\n",
        "\n",
        "image = cv2.imread(\"Digit-2.png\")"
      ],
      "metadata": {
        "id": "nr3cYzjPot4I"
      },
      "execution_count": 197,
      "outputs": []
    },
    {
      "cell_type": "code",
      "source": [
        "plt.imshow(image)   # image showing."
      ],
      "metadata": {
        "colab": {
          "base_uri": "https://localhost:8080/",
          "height": 451
        },
        "id": "hrjK2idXcBSZ",
        "outputId": "119a151a-0613-4fb0-a11a-683eb05b1e27"
      },
      "execution_count": 198,
      "outputs": [
        {
          "output_type": "execute_result",
          "data": {
            "text/plain": [
              "<matplotlib.image.AxesImage at 0x7d6a1d932c80>"
            ]
          },
          "metadata": {},
          "execution_count": 198
        },
        {
          "output_type": "display_data",
          "data": {
            "text/plain": [
              "<Figure size 640x480 with 1 Axes>"
            ],
            "image/png": "[encoded data removed]"
          },
          "metadata": {}
        }
      ]
    },
    {
      "cell_type": "code",
      "source": [
        "image.shape     # checking shape of image."
      ],
      "metadata": {
        "colab": {
          "base_uri": "https://localhost:8080/"
        },
        "id": "nAJ1b8B_X3R-",
        "outputId": "b7f022e2-1aed-4682-e626-18925baa013a"
      },
      "execution_count": 199,
      "outputs": [
        {
          "output_type": "execute_result",
          "data": {
            "text/plain": [
              "(224, 215, 3)"
            ]
          },
          "metadata": {},
          "execution_count": 199
        }
      ]
    },
    {
      "cell_type": "code",
      "source": [
        "gray_image = cv2.cvtColor(image, cv2.COLOR_BGR2GRAY)    # converting to gray-scale image."
      ],
      "metadata": {
        "id": "_o3uVGzAca3M"
      },
      "execution_count": 200,
      "outputs": []
    },
    {
      "cell_type": "code",
      "source": [
        "gray_image.shape     # checking shape of gray-scale image."
      ],
      "metadata": {
        "colab": {
          "base_uri": "https://localhost:8080/"
        },
        "id": "vNReUxoFX3WT",
        "outputId": "b155dbaa-7c57-4f45-9106-1e520063efb2"
      },
      "execution_count": 201,
      "outputs": [
        {
          "output_type": "execute_result",
          "data": {
            "text/plain": [
              "(224, 215)"
            ]
          },
          "metadata": {},
          "execution_count": 201
        }
      ]
    },
    {
      "cell_type": "code",
      "source": [
        "resized_image = cv2.resize(gray_image, (28, 28), interpolation = cv2.INTER_AREA)     # resizing gray-image."
      ],
      "metadata": {
        "id": "XKEnL5CGX3a5"
      },
      "execution_count": 202,
      "outputs": []
    },
    {
      "cell_type": "code",
      "source": [
        "resized_image.shape"
      ],
      "metadata": {
        "colab": {
          "base_uri": "https://localhost:8080/"
        },
        "id": "hXGHdl1FX3ef",
        "outputId": "5d2029c6-8e70-4a8f-e531-3a3cb11c829a"
      },
      "execution_count": 203,
      "outputs": [
        {
          "output_type": "execute_result",
          "data": {
            "text/plain": [
              "(28, 28)"
            ]
          },
          "metadata": {},
          "execution_count": 203
        }
      ]
    },
    {
      "cell_type": "code",
      "source": [
        "new_img = tf.keras.utils.normalize(resized_image, axis=1) # scaling between 0 to 1."
      ],
      "metadata": {
        "id": "TS2rycgje5Uw"
      },
      "execution_count": 204,
      "outputs": []
    },
    {
      "cell_type": "code",
      "source": [
        "new_img_converted = np.array(new_img)    # converting to numpy array."
      ],
      "metadata": {
        "id": "ylsjsT1wfJu7"
      },
      "execution_count": 205,
      "outputs": []
    },
    {
      "cell_type": "code",
      "source": [
        "reshaped_image = new_img_converted.reshape(-1, 28, 28, 1)    # reshaping to predict."
      ],
      "metadata": {
        "id": "26gGKqcme5ZQ"
      },
      "execution_count": 206,
      "outputs": []
    },
    {
      "cell_type": "code",
      "source": [
        "reshaped_image.shape"
      ],
      "metadata": {
        "colab": {
          "base_uri": "https://localhost:8080/"
        },
        "id": "V2NvJS68e5dn",
        "outputId": "a069400a-e700-4b03-c80a-70afca761f26"
      },
      "execution_count": 207,
      "outputs": [
        {
          "output_type": "execute_result",
          "data": {
            "text/plain": [
              "(1, 28, 28, 1)"
            ]
          },
          "metadata": {},
          "execution_count": 207
        }
      ]
    },
    {
      "cell_type": "code",
      "source": [
        "predicting_image = model.predict(reshaped_image)   # prediction the image number"
      ],
      "metadata": {
        "colab": {
          "base_uri": "https://localhost:8080/"
        },
        "id": "k_ewphjvfvk1",
        "outputId": "45d51957-d36e-4bf0-fe58-0626e025ef63"
      },
      "execution_count": 208,
      "outputs": [
        {
          "output_type": "stream",
          "name": "stdout",
          "text": [
            "1/1 [==============================] - 0s 19ms/step\n"
          ]
        }
      ]
    },
    {
      "cell_type": "code",
      "source": [
        "print(np.argmax(predicting_image))    # prediction is correct"
      ],
      "metadata": {
        "colab": {
          "base_uri": "https://localhost:8080/"
        },
        "id": "XvgGlUEZfvpb",
        "outputId": "3786c779-4053-457a-a884-f40d0b73091d"
      },
      "execution_count": 209,
      "outputs": [
        {
          "output_type": "stream",
          "name": "stdout",
          "text": [
            "2\n"
          ]
        }
      ]
    },
    {
      "cell_type": "markdown",
      "source": [
        "### **Conclusion:**\n",
        "In conclusion, this project successfully demonstrates the power of Convolutional Neural Networks in recognizing handwritten digits. Through careful data preprocessing, model building, and training, the CNN achieved a commendable accuracy on the MNIST test dataset. The project highlights the significance of machine learning in real-world applications like digit recognition, where automation and accuracy are crucial. As machine learning continues to advance, projects like this contribute to the growing field of computer vision and pattern recognition."
      ],
      "metadata": {
        "id": "q2tDkm76-Ta3"
      }
    }
  ]
}